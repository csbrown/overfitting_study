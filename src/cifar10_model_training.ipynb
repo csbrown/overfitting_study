{
 "cells": [
  {
   "cell_type": "code",
   "execution_count": null,
   "metadata": {},
   "outputs": [
    {
     "name": "stdout",
     "output_type": "stream",
     "text": [
      "- Download progress: 29.8%"
     ]
    },
    {
     "name": "stderr",
     "output_type": "stream",
     "text": [
      "IOPub message rate exceeded.\n",
      "The notebook server will temporarily stop sending output\n",
      "to the client in order to avoid crashing it.\n",
      "To change this limit, set the config variable\n",
      "`--NotebookApp.iopub_msg_rate_limit`.\n",
      "\n",
      "Current values:\n",
      "NotebookApp.iopub_msg_rate_limit=1000.0 (msgs/sec)\n",
      "NotebookApp.rate_limit_window=3.0 (secs)\n",
      "\n"
     ]
    },
    {
     "name": "stdout",
     "output_type": "stream",
     "text": [
      "- Download progress: 56.3%"
     ]
    }
   ],
   "source": [
    "import tensorflow as tf\n",
    "import argparse\n",
    "import os.path\n",
    "from cifar10_models import *\n",
    "from cifar10_input import *\n",
    "from utils import *\n",
    "\n",
    "tf.logging.set_verbosity(tf.logging.INFO)\n",
    "\n",
    "#### SET THIS BEFORE RUNNING\n",
    "NAME = \"cifar10/cifar10_scm_001\"\n",
    "try:\n",
    "    os.makedirs(CHECKPOINT.format(NAME))\n",
    "except FileExistsError:\n",
    "    pass\n",
    "\n",
    "tf.reset_default_graph()\n",
    "train_files, test_files, validation_files = maybe_download_and_extract()\n",
    "train_data = Cifar10Record(train_files)\n",
    "test_data = Cifar10Record(test_files)\n",
    "\n",
    "model = Cifar10ShallowConvolutionalModel(train_data.image, train_data.label)\n",
    "\n",
    "try:\n",
    "    checkpoints = sorted([\"{}/{}\".format(ROOT.format(NAME),x[:-5]) for x in os.listdir(ROOT.format(NAME)) if x.endswith(\".meta\")], \n",
    "                     key=lambda x: int(x.split(\"-\")[-1]))\n",
    "except FileNotFoundError:\n",
    "    checkpoints = []\n",
    "model.saver.recover_last_checkpoints(checkpoints)\n",
    "try: latest_checkpoint = model.saver.last_checkpoints[-2]\n",
    "except: latest_checkpoint = None"
   ]
  },
  {
   "cell_type": "code",
   "execution_count": null,
   "metadata": {},
   "outputs": [],
   "source": [
    "latest_checkpoint"
   ]
  },
  {
   "cell_type": "code",
   "execution_count": null,
   "metadata": {},
   "outputs": [],
   "source": [
    "model.train(NAME, restore_point=latest_checkpoint)"
   ]
  },
  {
   "cell_type": "code",
   "execution_count": 3,
   "metadata": {},
   "outputs": [
    {
     "name": "stdout",
     "output_type": "stream",
     "text": [
      "Help on method train in module utils:\n",
      "\n",
      "train(name, restore_point=None, save_rate=500) method of cifar10_models.Cifar10ShallowConvolutionalModel instance\n",
      "\n"
     ]
    }
   ],
   "source": [
    "help(model.train)"
   ]
  },
  {
   "cell_type": "code",
   "execution_count": null,
   "metadata": {},
   "outputs": [],
   "source": []
  }
 ],
 "metadata": {
  "kernelspec": {
   "display_name": "Python 3",
   "language": "python",
   "name": "python3"
  },
  "language_info": {
   "codemirror_mode": {
    "name": "ipython",
    "version": 3
   },
   "file_extension": ".py",
   "mimetype": "text/x-python",
   "name": "python",
   "nbconvert_exporter": "python",
   "pygments_lexer": "ipython3",
   "version": "3.5.2"
  }
 },
 "nbformat": 4,
 "nbformat_minor": 2
}
