{
 "cells": [
  {
   "cell_type": "code",
   "execution_count": 2,
   "metadata": {},
   "outputs": [],
   "source": [
    "import tensorflow as tf\n",
    "import argparse\n",
    "import os.path\n",
    "from cifar100_models import *\n",
    "from cifar100_input import *\n",
    "from utils import *\n",
    "\n",
    "tf.logging.set_verbosity(tf.logging.INFO)\n",
    "\n",
    "#### SET THIS BEFORE RUNNING\n",
    "NAME = \"cifar100/cifar100_scm_0.0_0.0_0.0_0.2\"\n",
    "\n",
    "try:\n",
    "    checkpoints = sorted([\"{}/{}\".format(ROOT.format(NAME),x[:-5]) for x in os.listdir(ROOT.format(NAME)) if x.endswith(\".meta\")], \n",
    "                     key=lambda x: int(x.split(\"_\")[-1]))\n",
    "except FileNotFoundError:\n",
    "    checkpoints = []\n"
   ]
  },
  {
   "cell_type": "code",
   "execution_count": 6,
   "metadata": {},
   "outputs": [],
   "source": [
    "#### Rows are true label, columns are the prediction\n",
    "def p_confusion_matrix(model, checkpoint=None):\n",
    "    cf = np.zeros((100,100))\n",
    "    with tf.Session() as sess:\n",
    "        model._restore_or_init(sess, checkpoint)\n",
    "        try:\n",
    "            while True:\n",
    "                probas, y_ = sess.run([model.proba, model.y_])\n",
    "                index = np.argmax(y_, axis=1)\n",
    "                for i in range(len(index)):\n",
    "                    cf[index[i]] += probas[i]\n",
    "        except tf.errors.OutOfRangeError as e:\n",
    "            pass\n",
    "    return cf\n",
    "\n",
    "def cm_by_time(model, checkpoints, save_file_name, save_rate=10):\n",
    "    try:\n",
    "        cfs = np.load(save_file_name)\n",
    "        cfs = list(cfs)\n",
    "    except Exception as e:\n",
    "        print(e)\n",
    "        cfs = []\n",
    "    for i in range(len(cfs), len(checkpoints)):\n",
    "        checkpoint = checkpoints[i]\n",
    "        cfs.append(p_confusion_matrix(model, checkpoint))\n",
    "        if not i%save_rate:\n",
    "            print(i/len(checkpoints))\n",
    "            np.save(save_file_name, cfs)\n",
    "    return cfs"
   ]
  },
  {
   "cell_type": "code",
   "execution_count": null,
   "metadata": {},
   "outputs": [],
   "source": []
  },
  {
   "cell_type": "code",
   "execution_count": 8,
   "metadata": {},
   "outputs": [
    {
     "name": "stdout",
     "output_type": "stream",
     "text": [
      "[Errno 2] No such file or directory: 'cifar100_train_cm.npy'\n",
      "INFO:tensorflow:Restoring parameters from ../models/cifar100/cifar100_scm_0.0_0.0_0.0_0.2/model.ckpt_0000000400\n",
      "0.0\n",
      "INFO:tensorflow:Restoring parameters from ../models/cifar100/cifar100_scm_0.0_0.0_0.0_0.2/model.ckpt_0000000800\n",
      "INFO:tensorflow:Restoring parameters from ../models/cifar100/cifar100_scm_0.0_0.0_0.0_0.2/model.ckpt_0000001200\n",
      "INFO:tensorflow:Restoring parameters from ../models/cifar100/cifar100_scm_0.0_0.0_0.0_0.2/model.ckpt_0000001600\n",
      "INFO:tensorflow:Restoring parameters from ../models/cifar100/cifar100_scm_0.0_0.0_0.0_0.2/model.ckpt_0000002000\n",
      "INFO:tensorflow:Restoring parameters from ../models/cifar100/cifar100_scm_0.0_0.0_0.0_0.2/model.ckpt_0000002400\n",
      "INFO:tensorflow:Restoring parameters from ../models/cifar100/cifar100_scm_0.0_0.0_0.0_0.2/model.ckpt_0000002800\n",
      "INFO:tensorflow:Restoring parameters from ../models/cifar100/cifar100_scm_0.0_0.0_0.0_0.2/model.ckpt_0000003200\n",
      "INFO:tensorflow:Restoring parameters from ../models/cifar100/cifar100_scm_0.0_0.0_0.0_0.2/model.ckpt_0000003600\n",
      "INFO:tensorflow:Restoring parameters from ../models/cifar100/cifar100_scm_0.0_0.0_0.0_0.2/model.ckpt_0000004000\n",
      "INFO:tensorflow:Restoring parameters from ../models/cifar100/cifar100_scm_0.0_0.0_0.0_0.2/model.ckpt_0000004400\n",
      "0.3333333333333333\n",
      "INFO:tensorflow:Restoring parameters from ../models/cifar100/cifar100_scm_0.0_0.0_0.0_0.2/model.ckpt_0000004800\n",
      "INFO:tensorflow:Restoring parameters from ../models/cifar100/cifar100_scm_0.0_0.0_0.0_0.2/model.ckpt_0000005200\n",
      "INFO:tensorflow:Restoring parameters from ../models/cifar100/cifar100_scm_0.0_0.0_0.0_0.2/model.ckpt_0000005600\n",
      "INFO:tensorflow:Restoring parameters from ../models/cifar100/cifar100_scm_0.0_0.0_0.0_0.2/model.ckpt_0000006000\n",
      "INFO:tensorflow:Restoring parameters from ../models/cifar100/cifar100_scm_0.0_0.0_0.0_0.2/model.ckpt_0000006400\n",
      "INFO:tensorflow:Restoring parameters from ../models/cifar100/cifar100_scm_0.0_0.0_0.0_0.2/model.ckpt_0000006800\n",
      "INFO:tensorflow:Restoring parameters from ../models/cifar100/cifar100_scm_0.0_0.0_0.0_0.2/model.ckpt_0000007200\n",
      "INFO:tensorflow:Restoring parameters from ../models/cifar100/cifar100_scm_0.0_0.0_0.0_0.2/model.ckpt_0000007600\n",
      "INFO:tensorflow:Restoring parameters from ../models/cifar100/cifar100_scm_0.0_0.0_0.0_0.2/model.ckpt_0000008000\n",
      "INFO:tensorflow:Restoring parameters from ../models/cifar100/cifar100_scm_0.0_0.0_0.0_0.2/model.ckpt_0000008400\n",
      "0.6666666666666666\n",
      "INFO:tensorflow:Restoring parameters from ../models/cifar100/cifar100_scm_0.0_0.0_0.0_0.2/model.ckpt_0000008800\n",
      "INFO:tensorflow:Restoring parameters from ../models/cifar100/cifar100_scm_0.0_0.0_0.0_0.2/model.ckpt_0000009200\n",
      "INFO:tensorflow:Restoring parameters from ../models/cifar100/cifar100_scm_0.0_0.0_0.0_0.2/model.ckpt_0000009600\n",
      "INFO:tensorflow:Restoring parameters from ../models/cifar100/cifar100_scm_0.0_0.0_0.0_0.2/model.ckpt_0000010000\n",
      "INFO:tensorflow:Restoring parameters from ../models/cifar100/cifar100_scm_0.0_0.0_0.0_0.2/model.ckpt_0000010400\n",
      "INFO:tensorflow:Restoring parameters from ../models/cifar100/cifar100_scm_0.0_0.0_0.0_0.2/model.ckpt_0000010800\n",
      "INFO:tensorflow:Restoring parameters from ../models/cifar100/cifar100_scm_0.0_0.0_0.0_0.2/model.ckpt_0000011200\n",
      "INFO:tensorflow:Restoring parameters from ../models/cifar100/cifar100_scm_0.0_0.0_0.0_0.2/model.ckpt_0000011600\n",
      "INFO:tensorflow:Restoring parameters from ../models/cifar100/cifar100_scm_0.0_0.0_0.0_0.2/model.ckpt_0000012000\n",
      "[Errno 2] No such file or directory: 'cifar100_test_cm.npy'\n",
      "INFO:tensorflow:Restoring parameters from ../models/cifar100/cifar100_scm_0.0_0.0_0.0_0.2/model.ckpt_0000000400\n",
      "0.0\n",
      "INFO:tensorflow:Restoring parameters from ../models/cifar100/cifar100_scm_0.0_0.0_0.0_0.2/model.ckpt_0000000800\n",
      "INFO:tensorflow:Restoring parameters from ../models/cifar100/cifar100_scm_0.0_0.0_0.0_0.2/model.ckpt_0000001200\n",
      "INFO:tensorflow:Restoring parameters from ../models/cifar100/cifar100_scm_0.0_0.0_0.0_0.2/model.ckpt_0000001600\n",
      "INFO:tensorflow:Restoring parameters from ../models/cifar100/cifar100_scm_0.0_0.0_0.0_0.2/model.ckpt_0000002000\n",
      "INFO:tensorflow:Restoring parameters from ../models/cifar100/cifar100_scm_0.0_0.0_0.0_0.2/model.ckpt_0000002400\n",
      "INFO:tensorflow:Restoring parameters from ../models/cifar100/cifar100_scm_0.0_0.0_0.0_0.2/model.ckpt_0000002800\n",
      "INFO:tensorflow:Restoring parameters from ../models/cifar100/cifar100_scm_0.0_0.0_0.0_0.2/model.ckpt_0000003200\n",
      "INFO:tensorflow:Restoring parameters from ../models/cifar100/cifar100_scm_0.0_0.0_0.0_0.2/model.ckpt_0000003600\n",
      "INFO:tensorflow:Restoring parameters from ../models/cifar100/cifar100_scm_0.0_0.0_0.0_0.2/model.ckpt_0000004000\n",
      "INFO:tensorflow:Restoring parameters from ../models/cifar100/cifar100_scm_0.0_0.0_0.0_0.2/model.ckpt_0000004400\n",
      "0.3333333333333333\n",
      "INFO:tensorflow:Restoring parameters from ../models/cifar100/cifar100_scm_0.0_0.0_0.0_0.2/model.ckpt_0000004800\n",
      "INFO:tensorflow:Restoring parameters from ../models/cifar100/cifar100_scm_0.0_0.0_0.0_0.2/model.ckpt_0000005200\n",
      "INFO:tensorflow:Restoring parameters from ../models/cifar100/cifar100_scm_0.0_0.0_0.0_0.2/model.ckpt_0000005600\n",
      "INFO:tensorflow:Restoring parameters from ../models/cifar100/cifar100_scm_0.0_0.0_0.0_0.2/model.ckpt_0000006000\n",
      "INFO:tensorflow:Restoring parameters from ../models/cifar100/cifar100_scm_0.0_0.0_0.0_0.2/model.ckpt_0000006400\n",
      "INFO:tensorflow:Restoring parameters from ../models/cifar100/cifar100_scm_0.0_0.0_0.0_0.2/model.ckpt_0000006800\n",
      "INFO:tensorflow:Restoring parameters from ../models/cifar100/cifar100_scm_0.0_0.0_0.0_0.2/model.ckpt_0000007200\n",
      "INFO:tensorflow:Restoring parameters from ../models/cifar100/cifar100_scm_0.0_0.0_0.0_0.2/model.ckpt_0000007600\n",
      "INFO:tensorflow:Restoring parameters from ../models/cifar100/cifar100_scm_0.0_0.0_0.0_0.2/model.ckpt_0000008000\n",
      "INFO:tensorflow:Restoring parameters from ../models/cifar100/cifar100_scm_0.0_0.0_0.0_0.2/model.ckpt_0000008400\n",
      "0.6666666666666666\n",
      "INFO:tensorflow:Restoring parameters from ../models/cifar100/cifar100_scm_0.0_0.0_0.0_0.2/model.ckpt_0000008800\n",
      "INFO:tensorflow:Restoring parameters from ../models/cifar100/cifar100_scm_0.0_0.0_0.0_0.2/model.ckpt_0000009200\n",
      "INFO:tensorflow:Restoring parameters from ../models/cifar100/cifar100_scm_0.0_0.0_0.0_0.2/model.ckpt_0000009600\n",
      "INFO:tensorflow:Restoring parameters from ../models/cifar100/cifar100_scm_0.0_0.0_0.0_0.2/model.ckpt_0000010000\n",
      "INFO:tensorflow:Restoring parameters from ../models/cifar100/cifar100_scm_0.0_0.0_0.0_0.2/model.ckpt_0000010400\n",
      "INFO:tensorflow:Restoring parameters from ../models/cifar100/cifar100_scm_0.0_0.0_0.0_0.2/model.ckpt_0000010800\n",
      "INFO:tensorflow:Restoring parameters from ../models/cifar100/cifar100_scm_0.0_0.0_0.0_0.2/model.ckpt_0000011200\n",
      "INFO:tensorflow:Restoring parameters from ../models/cifar100/cifar100_scm_0.0_0.0_0.0_0.2/model.ckpt_0000011600\n",
      "INFO:tensorflow:Restoring parameters from ../models/cifar100/cifar100_scm_0.0_0.0_0.0_0.2/model.ckpt_0000012000\n"
     ]
    }
   ],
   "source": [
    "import os\n",
    "\n",
    "tf.reset_default_graph()\n",
    "train_files, test_files, validation_files = maybe_download_and_extract()\n",
    "train_data = Cifar100Record(train_files, epochs=1)\n",
    "test_data = Cifar100Record(test_files, epochs=1)\n",
    "\n",
    "model = Cifar100ShallowConvolutionalModel(train_data.image, train_data.label)\n",
    "\n",
    "train_cms = cm_by_time(model, checkpoints, \"cifar100_train_cm.npy\", 10)\n",
    "\n",
    "tf.reset_default_graph()\n",
    "train_files, test_files, validation_files = maybe_download_and_extract()\n",
    "train_data = Cifar100Record(train_files, epochs=1)\n",
    "test_data = Cifar100Record(test_files, epochs=1)\n",
    "\n",
    "model = Cifar100ShallowConvolutionalModel(test_data.image, test_data.label)\n",
    "\n",
    "test_cms = cm_by_time(model, checkpoints, \"cifar100_test_cm.npy\", 10)\n",
    "\n",
    "\n"
   ]
  },
  {
   "cell_type": "code",
   "execution_count": 9,
   "metadata": {},
   "outputs": [
    {
     "name": "stderr",
     "output_type": "stream",
     "text": [
      "/usr/local/lib/python3.5/dist-packages/ipykernel_launcher.py:4: RuntimeWarning: invalid value encountered in true_divide\n",
      "  after removing the cwd from sys.path.\n",
      "/usr/local/lib/python3.5/dist-packages/ipykernel_launcher.py:5: RuntimeWarning: invalid value encountered in true_divide\n",
      "  \"\"\"\n"
     ]
    }
   ],
   "source": [
    "#### TODO: may want to use normalization as in Feinberg 1970 An iterative procedure for estimation in contingency tables\n",
    "for i in range(len(test_cms)):\n",
    "    for row in range(len(test_cms[i])):\n",
    "        test_cms[i][row] = test_cms[i][row]/np.sum(test_cms[i][row])\n",
    "        train_cms[i][row] = train_cms[i][row]/np.sum(train_cms[i][row])"
   ]
  },
  {
   "cell_type": "code",
   "execution_count": 10,
   "metadata": {},
   "outputs": [
    {
     "name": "stdout",
     "output_type": "stream",
     "text": [
      "30\n"
     ]
    }
   ],
   "source": [
    "x = range(len(test_cms))\n",
    "print(len(test_cms))"
   ]
  },
  {
   "cell_type": "code",
   "execution_count": null,
   "metadata": {},
   "outputs": [],
   "source": [
    "import scipy.signal\n",
    "import matplotlib.pyplot as plt\n",
    "filt = scipy.signal.gaussian(10,3)\n",
    "filt /= sum(filt)\n",
    "fig, axarr = plt.subplots(100,100)\n",
    "test_cms = np.array(test_cms)\n",
    "train_cms = np.array(train_cms)\n",
    "for r in range(100):\n",
    "    for c in range(100):\n",
    "        axarr[r,c].set_xticklabels([])\n",
    "        axarr[r,c].set_yticklabels([])\n",
    "        axarr[r,c].plot(x[10:-10], scipy.signal.convolve(test_cms[:,r,c], filt,mode='same')[10:-10],'b')\n",
    "        axarr[r,c].plot(x[10:-10], scipy.signal.convolve(train_cms[:,r,c], filt,mode='same')[10:-10],'r')\n",
    "fig.set_size_inches(200, 200)\n",
    "#plt.show()\n",
    "fig.savefig('confusion_matrix_by_time_cifar100.png')"
   ]
  },
  {
   "cell_type": "code",
   "execution_count": null,
   "metadata": {},
   "outputs": [],
   "source": []
  }
 ],
 "metadata": {
  "kernelspec": {
   "display_name": "Python 3",
   "language": "python",
   "name": "python3"
  },
  "language_info": {
   "codemirror_mode": {
    "name": "ipython",
    "version": 3
   },
   "file_extension": ".py",
   "mimetype": "text/x-python",
   "name": "python",
   "nbconvert_exporter": "python",
   "pygments_lexer": "ipython3",
   "version": "3.5.2"
  }
 },
 "nbformat": 4,
 "nbformat_minor": 2
}
