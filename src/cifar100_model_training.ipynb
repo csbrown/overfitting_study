{
 "cells": [
  {
   "cell_type": "code",
   "execution_count": 1,
   "metadata": {},
   "outputs": [],
   "source": [
    "import tensorflow as tf\n",
    "import argparse\n",
    "import os.path\n",
    "from cifar100_models import *\n",
    "from cifar100_input import *\n",
    "from utils import *\n",
    "\n",
    "tf.logging.set_verbosity(tf.logging.INFO)\n",
    "\n",
    "#### SET THIS BEFORE RUNNING\n",
    "NAME = \"cifar100/cifar100_scm_001\"\n",
    "try:\n",
    "    os.makedirs(CHECKPOINT.format(NAME))\n",
    "except FileExistsError:\n",
    "    pass\n",
    "\n",
    "tf.reset_default_graph()\n",
    "train_files, test_files = maybe_download_and_extract()\n",
    "train_data = Cifar100Record(train_files)\n",
    "test_data = Cifar100Record(test_files)\n",
    "\n",
    "model = Cifar100ShallowConvolutionalModel(train_data.image, train_data.label)\n",
    "\n",
    "try:\n",
    "    checkpoints = sorted([\"{}/{}\".format(ROOT.format(NAME),x[:-5]) for x in os.listdir(ROOT.format(NAME)) if x.endswith(\".meta\")], \n",
    "                     key=lambda x: int(x.split(\"-\")[-1]))\n",
    "except FileNotFoundError:\n",
    "    checkpoints = []\n",
    "model.saver.recover_last_checkpoints(checkpoints)\n",
    "try: latest_checkpoint = model.saver.last_checkpoints[-2]\n",
    "except: latest_checkpoint = None"
   ]
  },
  {
   "cell_type": "code",
   "execution_count": 2,
   "metadata": {},
   "outputs": [
    {
     "name": "stdout",
     "output_type": "stream",
     "text": [
      "INFO:tensorflow:Restoring parameters from ../models/cifar100/cifar100_scm_001/model.ckpt-200500\n",
      "Saving to:  ../models/cifar100/cifar100_scm_001/model.ckpt_201000\n",
      "Saving to:  ../models/cifar100/cifar100_scm_001/model.ckpt_201500\n",
      "INFO:tensorflow:../models/cifar100/cifar100_scm_001/model.ckpt-201500 is not in all_model_checkpoint_paths. Manually adding it.\n",
      "Saving to:  ../models/cifar100/cifar100_scm_001/model.ckpt_202000\n",
      "INFO:tensorflow:../models/cifar100/cifar100_scm_001/model.ckpt-202000 is not in all_model_checkpoint_paths. Manually adding it.\n",
      "Saving to:  ../models/cifar100/cifar100_scm_001/model.ckpt_202500\n",
      "INFO:tensorflow:../models/cifar100/cifar100_scm_001/model.ckpt-202500 is not in all_model_checkpoint_paths. Manually adding it.\n",
      "Saving to:  ../models/cifar100/cifar100_scm_001/model.ckpt_203000\n",
      "INFO:tensorflow:../models/cifar100/cifar100_scm_001/model.ckpt-203000 is not in all_model_checkpoint_paths. Manually adding it.\n",
      "Saving to:  ../models/cifar100/cifar100_scm_001/model.ckpt_203500\n",
      "INFO:tensorflow:../models/cifar100/cifar100_scm_001/model.ckpt-203500 is not in all_model_checkpoint_paths. Manually adding it.\n",
      "Saving to:  ../models/cifar100/cifar100_scm_001/model.ckpt_204000\n",
      "INFO:tensorflow:../models/cifar100/cifar100_scm_001/model.ckpt-204000 is not in all_model_checkpoint_paths. Manually adding it.\n",
      "Saving to:  ../models/cifar100/cifar100_scm_001/model.ckpt_204500\n",
      "INFO:tensorflow:../models/cifar100/cifar100_scm_001/model.ckpt-204500 is not in all_model_checkpoint_paths. Manually adding it.\n",
      "Saving to:  ../models/cifar100/cifar100_scm_001/model.ckpt_205000\n",
      "INFO:tensorflow:../models/cifar100/cifar100_scm_001/model.ckpt-205000 is not in all_model_checkpoint_paths. Manually adding it.\n",
      "Saving to:  ../models/cifar100/cifar100_scm_001/model.ckpt_205500\n",
      "INFO:tensorflow:../models/cifar100/cifar100_scm_001/model.ckpt-205500 is not in all_model_checkpoint_paths. Manually adding it.\n",
      "Saving to:  ../models/cifar100/cifar100_scm_001/model.ckpt_206000\n",
      "INFO:tensorflow:../models/cifar100/cifar100_scm_001/model.ckpt-206000 is not in all_model_checkpoint_paths. Manually adding it.\n",
      "Saving to:  ../models/cifar100/cifar100_scm_001/model.ckpt_206500\n",
      "INFO:tensorflow:../models/cifar100/cifar100_scm_001/model.ckpt-206500 is not in all_model_checkpoint_paths. Manually adding it.\n",
      "Saving to:  ../models/cifar100/cifar100_scm_001/model.ckpt_207000\n",
      "INFO:tensorflow:../models/cifar100/cifar100_scm_001/model.ckpt-207000 is not in all_model_checkpoint_paths. Manually adding it.\n",
      "Saving to:  ../models/cifar100/cifar100_scm_001/model.ckpt_207500\n",
      "INFO:tensorflow:../models/cifar100/cifar100_scm_001/model.ckpt-207500 is not in all_model_checkpoint_paths. Manually adding it.\n",
      "Saving to:  ../models/cifar100/cifar100_scm_001/model.ckpt_208000\n",
      "INFO:tensorflow:../models/cifar100/cifar100_scm_001/model.ckpt-208000 is not in all_model_checkpoint_paths. Manually adding it.\n",
      "Saving to:  ../models/cifar100/cifar100_scm_001/model.ckpt_208500\n",
      "INFO:tensorflow:../models/cifar100/cifar100_scm_001/model.ckpt-208500 is not in all_model_checkpoint_paths. Manually adding it.\n",
      "Saving to:  ../models/cifar100/cifar100_scm_001/model.ckpt_209000\n",
      "INFO:tensorflow:../models/cifar100/cifar100_scm_001/model.ckpt-209000 is not in all_model_checkpoint_paths. Manually adding it.\n",
      "Saving to:  ../models/cifar100/cifar100_scm_001/model.ckpt_209500\n",
      "INFO:tensorflow:../models/cifar100/cifar100_scm_001/model.ckpt-209500 is not in all_model_checkpoint_paths. Manually adding it.\n",
      "Saving to:  ../models/cifar100/cifar100_scm_001/model.ckpt_210000\n",
      "INFO:tensorflow:../models/cifar100/cifar100_scm_001/model.ckpt-210000 is not in all_model_checkpoint_paths. Manually adding it.\n",
      "Saving to:  ../models/cifar100/cifar100_scm_001/model.ckpt_210500\n",
      "INFO:tensorflow:../models/cifar100/cifar100_scm_001/model.ckpt-210500 is not in all_model_checkpoint_paths. Manually adding it.\n",
      "Saving to:  ../models/cifar100/cifar100_scm_001/model.ckpt_211000\n",
      "INFO:tensorflow:../models/cifar100/cifar100_scm_001/model.ckpt-211000 is not in all_model_checkpoint_paths. Manually adding it.\n",
      "Saving to:  ../models/cifar100/cifar100_scm_001/model.ckpt_211500\n",
      "INFO:tensorflow:../models/cifar100/cifar100_scm_001/model.ckpt-211500 is not in all_model_checkpoint_paths. Manually adding it.\n",
      "Saving to:  ../models/cifar100/cifar100_scm_001/model.ckpt_212000\n",
      "INFO:tensorflow:../models/cifar100/cifar100_scm_001/model.ckpt-212000 is not in all_model_checkpoint_paths. Manually adding it.\n",
      "Saving to:  ../models/cifar100/cifar100_scm_001/model.ckpt_212500\n",
      "INFO:tensorflow:../models/cifar100/cifar100_scm_001/model.ckpt-212500 is not in all_model_checkpoint_paths. Manually adding it.\n",
      "Saving to:  ../models/cifar100/cifar100_scm_001/model.ckpt_213000\n",
      "INFO:tensorflow:../models/cifar100/cifar100_scm_001/model.ckpt-213000 is not in all_model_checkpoint_paths. Manually adding it.\n",
      "Saving to:  ../models/cifar100/cifar100_scm_001/model.ckpt_213500\n",
      "INFO:tensorflow:../models/cifar100/cifar100_scm_001/model.ckpt-213500 is not in all_model_checkpoint_paths. Manually adding it.\n",
      "Saving to:  ../models/cifar100/cifar100_scm_001/model.ckpt_214000\n",
      "INFO:tensorflow:../models/cifar100/cifar100_scm_001/model.ckpt-214000 is not in all_model_checkpoint_paths. Manually adding it.\n",
      "Saving to:  ../models/cifar100/cifar100_scm_001/model.ckpt_214500\n",
      "INFO:tensorflow:../models/cifar100/cifar100_scm_001/model.ckpt-214500 is not in all_model_checkpoint_paths. Manually adding it.\n",
      "Saving to:  ../models/cifar100/cifar100_scm_001/model.ckpt_215000\n",
      "INFO:tensorflow:../models/cifar100/cifar100_scm_001/model.ckpt-215000 is not in all_model_checkpoint_paths. Manually adding it.\n"
     ]
    }
   ],
   "source": [
    "model.train(NAME, restore_point=latest_checkpoint)"
   ]
  },
  {
   "cell_type": "code",
   "execution_count": null,
   "metadata": {},
   "outputs": [],
   "source": []
  }
 ],
 "metadata": {
  "kernelspec": {
   "display_name": "Python 3",
   "language": "python",
   "name": "python3"
  },
  "language_info": {
   "codemirror_mode": {
    "name": "ipython",
    "version": 3
   },
   "file_extension": ".py",
   "mimetype": "text/x-python",
   "name": "python",
   "nbconvert_exporter": "python",
   "pygments_lexer": "ipython3",
   "version": "3.5.2"
  }
 },
 "nbformat": 4,
 "nbformat_minor": 2
}
